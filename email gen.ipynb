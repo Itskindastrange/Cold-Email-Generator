{
 "cells": [
  {
   "cell_type": "code",
   "execution_count": 30,
   "metadata": {},
   "outputs": [],
   "source": [
    "from langchain_groq import ChatGroq\n"
   ]
  },
  {
   "cell_type": "code",
   "execution_count": null,
   "metadata": {},
   "outputs": [
    {
     "name": "stdout",
     "output_type": "stream",
     "text": [
      "Cold email is a form of email marketing where you send an email to someone you don't know, without prior contact or consent, in an attempt to establish a connection, generate interest, or initiate a business relationship. The goal of a cold email is often to introduce a product, service, or opportunity to a potential customer or partner, with the hope of sparking a conversation or securing a meeting.\n",
      "\n",
      "Cold emails are typically characterized by:\n",
      "\n",
      "1. Lack of prior relationship: The sender and recipient have no prior connection or communication history.\n",
      "2. Unsolicited: The email is sent without the recipient's explicit permission or request.\n",
      "3. Sales or marketing intent: The primary purpose of the email is to promote a product, service, or idea.\n",
      "\n",
      "Effective cold emails should be:\n",
      "\n",
      "1. Personalized: Addressed to a specific person, with a clear understanding of their needs and interests.\n",
      "2. Relevant: The content should be relevant to the recipient's industry, role, or challenges.\n",
      "3. Concise: Brief and to the point, with a clear call-to-action (CTA).\n",
      "4. Well-written: Free of errors, with a professional tone and format.\n",
      "\n",
      "However, cold emailing can be seen as intrusive or spammy if not done correctly. It's essential to research the recipient, ensure the email is relevant and valuable, and comply with anti-spam laws and regulations, such as the General Data Protection Regulation (GDPR) and the CAN-SPAM Act.\n"
     ]
    }
   ],
   "source": [
    "llm = ChatGroq(\n",
    "    temperature=0, \n",
    "    groq_api_key='',     #your API key\n",
    "    model_name=\"llama-3.3-70b-versatile\"\n",
    ")\n",
    "\n",
    "response = llm.invoke(\"Cold email is...\")\n",
    "print(response.content)"
   ]
  },
  {
   "cell_type": "code",
   "execution_count": 32,
   "metadata": {},
   "outputs": [
    {
     "name": "stdout",
     "output_type": "stream",
     "text": [
      "Senior, Data Scientist | Walmart Careers             \n",
      "\n",
      "\n",
      "\n",
      "\n",
      "\n",
      "\n",
      "\n",
      "\n",
      "\n",
      "\n",
      "\n",
      "\n",
      "\n",
      "\n",
      "\n",
      "  \n",
      "\n",
      "    Careers    All Career Areas  Back  Stores & Clubs  Sam’s Club Jobs  Sam’s Club Management Jobs  Walmart Management Jobs  Walmart Store Jobs   Distribution, Fulfillment, & Drivers  Distribution and Fulfillment Centers  Drivers & Transportation  Fleet Maintenance  Flex Associate  Manufacturing   Healthcare  Corporate Healthcare Roles  Optical  Pharmacy   Technology  Cybersecurity  Data Science and Analytics  Information Technology  Project and Program Management - Technology  Software Development and Engineering  UX Design  View all Technology   Corporate  Accounting and Finance  Administrative and Support Services  Asset Protection  Aviation and Travel  Business Operations  Corporate Affairs and Communications  Customer Service and Call Center  Data Analytics and Business Intelligence  Engineering  Ethics and Compliance  Global Investigations and Security  Human Resources  Installation, Maintenance and Utilities  Legal  Marketing and Customer Insights  Merchandising and Online Operations  Product Management  Project and Program Management - PMO  Real Estate, Construction and Realty Execution  Supply Chain and Logistics  View all Corporate     Locations  Back  Northwest Arkansas  Silicon Valley  DC Metro Area  India  International    Culture  Back  Values  History  Diversity & Inclusion  Working at Walmart    Impact  Back  Sustainability  Community  America at Work    Students   Military   Login Back  Supply Chain  Hourly   Management   Transportation & Drivers    Corporate  Home Office    Sam's Club  Hourly   Management    Walmart Stores  Hourly   Management            Senior, Data Scientist   Share this position        Senior, Data Scientist Apply  Apply  Location SUNNYVALE, CA   Career Area Data Analytics and Business Intelligence   Job Function Data Science   Employment Type Regular/Permanent   Position Type Salary   Requisition WD1986214    What you'll do  at   Position Summary...What you'll do...About Team: Data Ventures Walmart Data Ventures operates with the agility of a nimble startup, dedicated to creating the best-in-class suite of Data Products. Walmart Luminate is the first product, which has been created to deliver actionable, customer-centric insights, empowering CPGs and Walmart merchants make data-driven decisions in a smarter, faster, and collaborative manner. We are seeking an experienced data scientist (+3 YOE) with expertise in NLP, deep learning and E-commerce to lead building ML-powered applications. In this role, you will lead the development and evaluation of ML models to solve business problems and the integration into Digital Landscape product. This position plays a pivotal role in mentoring and inspiring other scientists within the team. Cross-functional collaboration with key internal and external stakeholders such as data, E-commerce and advertising teams will be essential in this position. You are expected to provide and support the implementation of business solutions by building relationships and partnerships with key stakeholders; identifying business needs; determining and carrying out necessary processes and practices; monitoring progress and results; recognizing and capitalizing on improvement opportunities; and adapting to competing demands, organizational changes, and new responsibilities. About Team: What you'll do:As a Senior Data Scientist at Walmart , you'll have the opportunity to:Drive Digital Landscape modules through application of ML capabilities and enhance with data-derived insights across the wide range of retail divisions. Develop advanced statistical models, machine learning algorithms and computational algorithms based on business initiatives. Direct the gathering of data, assessing data validity and synthesizing data into large analytics datasets to support project goals. Utilize big data analytics and advanced data science techniques to identify trends, patterns, and discrepancies in data. Determine additional data needed to support insights. Build and train statistical models and machine learning algorithms for replication for future projects. Productionize the models and make those available at scale. Build and maintain end to end Machine Learning pipelines. Communicate recommendations to business partners and influence future plans based on insights. What you'll bring:Experience as technical on-hands data scientist building and deploying solutions. Must have high proficiency in deep learning, NLP modeling, validation and insight generation, with a proven track record of building and deploying advanced applications. Must have high proficiency in coding including Python and Pyspark with excellent knowledge of Data Structures. Exceptional problem-solving skills and a demonstrated ability to prototype and implement complex AI solutions. A growth mindset and a passion for staying updated with the latest developments in AI/ML space. About Walmart Global TechImagine working in an environment where one line of code can make life easier for hundreds of millions of people. That’s what we do at Walmart Global Tech. We’re a team of software engineers, data scientists, cybersecurity expert's and service professionals within the world’s leading retailer who make an epic impact and are at the forefront of the next retail disruption. People are why we innovate, and people power our innovations. We are people-led and tech-empowered. We train our team in the skillsets of the future and bring in experts like you to help us grow. We have roles for those chasing their first opportunity as well as those looking for the opportunity that will define their career. Here, you can kickstart a great career in tech, gain new skills and experience for virtually every industry, or leverage your expertise to innovate at scale, impact millions and reimagine the future of retail.Flexible, hybrid work:We use a hybrid way of working that is primarily in office coupled with virtual when not onsite. Our campuses serve as a hub to enhance collaboration, bring us together for purpose and deliver on business needs. This approach helps us make quicker decisions, remove location barriers across our global team and be more flexible in our personal lives.Benefits:Benefits: Beyond our great compensation package, you can receive incentive awards for your performance. Other great perks include 401(k) match, stock purchase plan, paid maternity and parental leave, PTO, multiple health plans, and much more.Equal Opportunity Employer:Walmart, Inc. is an Equal Opportunity Employer – By Choice. We believe we are best equipped to help our associates, customers and the communities we serve live better when we really know them. That means understanding, respecting and valuing diversity- unique styles, experiences, identities, ideas and opinions – while being inclusive of all people.The above information has been designed to indicate the general nature and level of work performed in the role. It is not designed to contain or be interpreted as a comprehensive inventory of all responsibilities and qualifications required of employees assigned to this job. The full Job Description can be made available as part of the hiring process.At Walmart, we offer competitive pay as well as performance-based bonus awards and other great benefits for a happier mind, body, and wallet. Health benefits include medical, vision and dental coverage. Financial benefits include 401(k), stock purchase and company-paid life insurance. Paid time off benefits include PTO (including sick leave), parental leave, family care leave, bereavement, jury duty, and voting. Other benefits include short-term and long-term disability, company discounts, Military Leave Pay, adoption and surrogacy expense reimbursement, and more.‎ ‎ ‎ You will also receive PTO and/or PPTO that can be used for vacation, sick leave, holidays, or other purposes.  The amount you receive depends on your job classification and length of employment.  It will meet or exceed the requirements of paid sick leave laws, where applicable.‎ For information about PTO, see https://one.walmart.com/notices.‎ ‎ Live Better U is a Walmart-paid education benefit program for full-time and part-time associates in Walmart and Sam's Club facilities. Programs range from high school completion to bachelor's degrees, including English Language Learning and short-form certificates. Tuition, books, and fees are completely paid for by Walmart.‎ Eligibility requirements apply to some benefits and may depend on your job classification and length of employment. Benefits are subject to change and may be subject to a specific plan or program terms.‎ For information about benefits and eligibility, see One.Walmart.‎ Sunnyvale, California US-08479:The annual salary range for this position is $117,000.00-$234,000.00‎ Bentonville, Arkansas US-10735:The annual salary range for this position is $90,000.00-$180,000.00‎ ‎ ‎ ‎ ‎ ‎ ‎ ‎ ‎ ‎ Additional compensation includes annual or quarterly performance bonuses.‎ Additional compensation for certain positions may also include:‎ ‎ -  Stock‎ ‎ Minimum Qualifications...Outlined below are the required minimum qualifications for this position. If none are listed, there are no minimum qualifications. Option 1- Bachelor’s degree in Statistics, Economics, Analytics, Mathematics, Computer Science, Information Technology, or related field and 3 years' experience in an analytics related field. Option 2- Master’s degree in Statistics, Economics, Analytics, Mathematics, Computer Science, Information Technology, or related field and 1 years' experience in an analytics related field. Option 3 - 5 years' experience in an analytics or related field.As permitted by applicable law, provide evidence of full vaccination as defined by CDC guidelines OR secure approval of medical or religious accommodation for the vaccination mandate.Preferred Qualifications...Outlined below are the optional preferred qualifications for this position. If none are listed, there are no preferred qualifications.Data science, machine learning, optimization models, Master’s degree in Machine Learning, Computer Science, Information Technology, Operations Research, Statistics, Applied Mathematics, Econometrics, Successful completion of one or more assessments in Python, Spark, Scala, or R, Using open source frameworks (for example, scikit learn, tensorflow, torch), We value candidates with a background in creating inclusive digital experiences, demonstrating knowledge in implementing Web Content Accessibility Guidelines (WCAG) 2.2 AA standards, assistive technologies, and integrating digital accessibility seamlessly. The ideal candidate would have knowledge of accessibility best practices and join us as we continue to create accessible products and services following Walmart’s accessibility standards and guidelines for supporting an inclusive culture.Primary Location...640 W California Avenue,  Sunnyvale, CA 94086-4828, United States of America       About Walmart At Walmart, we help people save money so they can live better. This mission serves as the foundation for every decision we make, from responsible sourcing to sustainability—and everything in between. As a Walmart associate, you will play an integral role in shaping the future of retail, tech, merchandising, finance and hundreds of other industries—all while affecting the lives of millions of customers all over the world. Here, your work makes an impact every day. What are you waiting for? Walmart Inc. is an Equal Opportunity Employer- By Choice. We believe we are best equipped to help our associates, customers, and the communities we serve live better when we really know them. That means understanding, respecting, and valuing unique styles, experiences, identities, abilities, ideas and opinions- while welcoming all people.    \"The people you work with are ready to help without hesitation to make sure you succeed, it’s just part of the culture.\" — Shelby, Project Analyst Hello, Silicon ValleyYou don’t have to choose between your career and your lifestyle in Silicon Valley. Here, you can have both. Discover Silicon Valley          BeautyFiloli Gardens, Woodside View an art exhibit, take a nature hike, explore the historic Filoli House, or take a class at this gorgeous 654–acre property.    ArtSFMOMAGet your art fix at this internationally recognized collection of over 30,000 works of modern and contemporary art.    EducationComputer History Museum Large-scale exhibits, an acclaimed speaker series, docent-led tours and an award-winning education program bring computer history to life.    PurposeThe DishHike or jog throughout the year on terrain dedicated to academic programs, environmental restoration and habitat conservation.              ExploreGolden Gate Park, SF Events, attractions, meadows, lakes, and a Japanese Tea Garden provide for a true escape, without leaving the city.    ImagineThe Tech Museum This family-friendly interactive science and technology center in San Jose provides a glimpse into the most inventive place on Earth — Silicon Valley.    ShopSantana Row - San Jose Stylish boutiques, world-class shopping, and delectable cuisine = a San Jose shopping trifecta.    DisconnectPacifica State Beach Learn to surf or visit the “World’s Most Scenic Taco Bell” at this 0.75 mile long crescent shaped escape, a symbol of successful habitat restoration.    ReflectGolden Gate Cemetery This national cemetery comprises 161 acres dedicated to all the members of the armed forces who served our country.            All the benefits you need for you and your family  Multiple health plan options, including vision & dental plans for you & dependents  Financial benefits including 401(k), stock purchase plans, life insurance and more  Associate discounts in-store and online  Education assistance for Associate and dependents  Parental Leave  Pay during military service  Paid Time off - to include vacation, sick, parental  Short-term and long-term disability for when you can't work because of injury, illness, or childbirth    Eligibility requirements apply to some benefits and may depend on your job classification and length of employment. Benefits are subject to change and may be subject to specific plan or program terms. For information about benefits and eligibility, see One.Walmart.com/Benefits.  Frequently asked questions  On average, how long does it take to fill out an application?It depends on the role you are applying to. We do our best to keep the application process to approximately 15-20 minutes, plus an additional 20-30 minutes if an assessment is required. Further applications are faster as our system saves your data. Not all roles require an assessment and certain roles may require additional assessments.   Can I change my application after submitting?No, you cannot change your application after submitting, so please make sure that everything is finalized before you hit the submit button.  How do you protect my personal information?Processing of information on paper is minimal, and Walmart processes application information using an applicant tracking system (ATS). Access to the data within the ATS is restricted to authorized personnel, and the system itself is held to high security standards by Walmart.  What are the recommended Internet Browsers for applying for open roles?We recommend Google Chrome 12+ for the best user experience. However, the following browsers may also be used:Firefox 115+Microsoft Edge 44+Safari 5.0+   See All FAQs  Recently viewed jobs    FAQ   Sitemap   Corporate   Terms & Conditions   Privacy Policy   Notice at Collection           ©2025 Walmart, Inc. is an Equal Opportunity Employer- By Choice.   We believe we are best equipped to help our associates, customers, and the communities we serve live better when we really know them. That means understanding, respecting, and valuing unique styles, experiences, identities, abilities, ideas and opinions- while welcoming all people. Walmart Inc. participates in E-Verify. Learn more about   applicant rights under Federal Employment Laws.          \n",
      "\n",
      "\n",
      "\n",
      "\n",
      "\n",
      "\n",
      "\n",
      "\n",
      "\n",
      "\n",
      "\n",
      "\n",
      " \n"
     ]
    }
   ],
   "source": [
    "from langchain_community.document_loaders import WebBaseLoader\n",
    "\n",
    "loader = WebBaseLoader(\"https://careers.walmart.com/us/jobs/WD1986214-senior-data-scientist\")\n",
    "page_data = loader.load().pop().page_content\n",
    "print(page_data)"
   ]
  },
  {
   "cell_type": "code",
   "execution_count": 33,
   "metadata": {},
   "outputs": [
    {
     "data": {
      "text/plain": [
       "str"
      ]
     },
     "execution_count": 33,
     "metadata": {},
     "output_type": "execute_result"
    }
   ],
   "source": [
    "from langchain_core.prompts import PromptTemplate\n",
    "\n",
    "prompt_extract = PromptTemplate.from_template(\n",
    "        \"\"\"\n",
    "        ### SCRAPED TEXT FROM WEBSITE:\n",
    "        {page_data}\n",
    "        ### INSTRUCTION:\n",
    "        The scraped text is from the career's page of a website.\n",
    "        Your job is to extract the job postings and return them in JSON format containing the \n",
    "        following keys: `role`, `experience`, `skills` and `description`.\n",
    "        Only return the valid JSON.\n",
    "        ### VALID JSON (NO PREAMBLE):    \n",
    "        \"\"\"\n",
    ")\n",
    "\n",
    "chain_extract = prompt_extract | llm \n",
    "res = chain_extract.invoke(input={'page_data':page_data})\n",
    "type(res.content)"
   ]
  },
  {
   "cell_type": "code",
   "execution_count": 34,
   "metadata": {},
   "outputs": [
    {
     "name": "stdout",
     "output_type": "stream",
     "text": [
      "```json\n",
      "{\n",
      "  \"role\": \"Senior, Data Scientist\",\n",
      "  \"experience\": \"3+ years\",\n",
      "  \"skills\": [\n",
      "    \"NLP\",\n",
      "    \"Deep Learning\",\n",
      "    \"E-commerce\",\n",
      "    \"Python\",\n",
      "    \"Pyspark\",\n",
      "    \"Data Structures\",\n",
      "    \"Machine Learning\",\n",
      "    \"Data Science\"\n",
      "  ],\n",
      "  \"description\": \"Drive Digital Landscape modules through application of ML capabilities and enhance with data-derived insights across the wide range of retail divisions. Develop advanced statistical models, machine learning algorithms and computational algorithms based on business initiatives.\"\n",
      "}\n",
      "```\n"
     ]
    }
   ],
   "source": [
    "print(res.content)"
   ]
  },
  {
   "cell_type": "code",
   "execution_count": 35,
   "metadata": {},
   "outputs": [],
   "source": [
    "from langchain_core.output_parsers import JsonOutputParser\n"
   ]
  },
  {
   "cell_type": "code",
   "execution_count": 36,
   "metadata": {},
   "outputs": [],
   "source": [
    "json_parser = JsonOutputParser()\n",
    "json_response = json_parser.parse(res.content)"
   ]
  },
  {
   "cell_type": "code",
   "execution_count": 37,
   "metadata": {},
   "outputs": [
    {
     "data": {
      "text/plain": [
       "{'role': 'Senior, Data Scientist',\n",
       " 'experience': '3+ years',\n",
       " 'skills': ['NLP',\n",
       "  'Deep Learning',\n",
       "  'E-commerce',\n",
       "  'Python',\n",
       "  'Pyspark',\n",
       "  'Data Structures',\n",
       "  'Machine Learning',\n",
       "  'Data Science'],\n",
       " 'description': 'Drive Digital Landscape modules through application of ML capabilities and enhance with data-derived insights across the wide range of retail divisions. Develop advanced statistical models, machine learning algorithms and computational algorithms based on business initiatives.'}"
      ]
     },
     "execution_count": 37,
     "metadata": {},
     "output_type": "execute_result"
    }
   ],
   "source": [
    "json_response"
   ]
  },
  {
   "cell_type": "code",
   "execution_count": 38,
   "metadata": {},
   "outputs": [
    {
     "data": {
      "text/plain": [
       "dict"
      ]
     },
     "execution_count": 38,
     "metadata": {},
     "output_type": "execute_result"
    }
   ],
   "source": [
    "type(json_response)"
   ]
  },
  {
   "cell_type": "code",
   "execution_count": 39,
   "metadata": {},
   "outputs": [],
   "source": [
    "import pandas as pd"
   ]
  },
  {
   "cell_type": "code",
   "execution_count": 40,
   "metadata": {},
   "outputs": [
    {
     "data": {
      "text/html": [
       "<div>\n",
       "<style scoped>\n",
       "    .dataframe tbody tr th:only-of-type {\n",
       "        vertical-align: middle;\n",
       "    }\n",
       "\n",
       "    .dataframe tbody tr th {\n",
       "        vertical-align: top;\n",
       "    }\n",
       "\n",
       "    .dataframe thead th {\n",
       "        text-align: right;\n",
       "    }\n",
       "</style>\n",
       "<table border=\"1\" class=\"dataframe\">\n",
       "  <thead>\n",
       "    <tr style=\"text-align: right;\">\n",
       "      <th></th>\n",
       "      <th>Name</th>\n",
       "      <th>Email</th>\n",
       "      <th>Phone</th>\n",
       "      <th>Skills</th>\n",
       "      <th>Experience</th>\n",
       "      <th>Education</th>\n",
       "      <th>Projects</th>\n",
       "    </tr>\n",
       "  </thead>\n",
       "  <tbody>\n",
       "    <tr>\n",
       "      <th>0</th>\n",
       "      <td>Abdullah Ahmad</td>\n",
       "      <td>abdullahahmaddd789@gmail.om</td>\n",
       "      <td>+92 311-4739994</td>\n",
       "      <td>Python, C/C++, SQL, JavaScript, HTML/CSS, Soli...</td>\n",
       "      <td>Volunteer Experience at STACKS-Pakistan FAST C...</td>\n",
       "      <td>Bachelor of Science in Computer Science from F...</td>\n",
       "      <td>Text Restore - Developed a React-based website...</td>\n",
       "    </tr>\n",
       "  </tbody>\n",
       "</table>\n",
       "</div>"
      ],
      "text/plain": [
       "             Name                        Email            Phone  \\\n",
       "0  Abdullah Ahmad  abdullahahmaddd789@gmail.om  +92 311-4739994   \n",
       "\n",
       "                                              Skills  \\\n",
       "0  Python, C/C++, SQL, JavaScript, HTML/CSS, Soli...   \n",
       "\n",
       "                                          Experience  \\\n",
       "0  Volunteer Experience at STACKS-Pakistan FAST C...   \n",
       "\n",
       "                                           Education  \\\n",
       "0  Bachelor of Science in Computer Science from F...   \n",
       "\n",
       "                                            Projects  \n",
       "0  Text Restore - Developed a React-based website...  "
      ]
     },
     "execution_count": 40,
     "metadata": {},
     "output_type": "execute_result"
    }
   ],
   "source": [
    "df = pd.read_csv(\"resume_details.csv\")\n",
    "df"
   ]
  },
  {
   "cell_type": "code",
   "execution_count": 48,
   "metadata": {},
   "outputs": [
    {
     "name": "stdout",
     "output_type": "stream",
     "text": [
      "✅ Resume data successfully added to ChromaDB!\n"
     ]
    }
   ],
   "source": [
    "import uuid\n",
    "import chromadb\n",
    "import pandas as pd\n",
    "\n",
    "# 🔹 Load Resume Data\n",
    "df = pd.read_csv(\"resume_details.csv\")  # Ensure this CSV contains Name, Skills, and Projects\n",
    "\n",
    "# 🔹 Initialize ChromaDB Client (Persistent Storage)\n",
    "client = chromadb.PersistentClient(\"vectorstore\")\n",
    "collection = client.get_or_create_collection(name=\"portfolio\")\n",
    "\n",
    "# 🔹 Insert Data into ChromaDB\n",
    "if not collection.count():\n",
    "    for _, row in df.iterrows():\n",
    "        candidate_name = row.get(\"Name\", \"\").strip()  # ✅ Ensure Name is fetched\n",
    "        tech_stack = row.get(\"Skills\", \"\").strip()  \n",
    "        project_links = row.get(\"Projects\", \"\").strip()\n",
    "\n",
    "        if candidate_name and tech_stack:  # ✅ Ensure Name & Skills exist\n",
    "            collection.add(\n",
    "                documents=[tech_stack],  \n",
    "                metadatas={\n",
    "                    \"name\": candidate_name,  # ✅ Store Name properly\n",
    "                    \"links\": project_links\n",
    "                },  \n",
    "                ids=[str(uuid.uuid4())]\n",
    "            )\n",
    "\n",
    "print(\"✅ Resume data successfully added to ChromaDB!\")\n"
   ]
  },
  {
   "cell_type": "code",
   "execution_count": 49,
   "metadata": {},
   "outputs": [
    {
     "name": "stdout",
     "output_type": "stream",
     "text": [
      "✅ Retrieved from ChromaDB: Name: Unknown Candidate, Skills: Python, C/C++, SQL, JavaScript, HTML/CSS, Solidity, Golang, Assembly, React, Node.js, Flask, Tensorflow, WordPress, Git, Docker, VS Code, Visual Studio, PyCharm, Pandas, NumPy, Matplotlib, Projects: Text Restore - Developed a React-based website. Doing research and developing a super-resolution pipeline to enhance degraded Urdu text images. Created a custom dataset by collecting Urdu manuscripts and applying artificial degradation techniques. Training, Fine-tuning and comparison of state-of-the-art models (SRCNN, ESRGAN, Real-ESRGAN) with PSNR and SSIM metrics for evaluation\n",
      "Bitcoin Price Predection - Preprocessed Bitcoin data using Pandas, focusing on handling missing values, scaling, and feature engineering for time-series analysis. Planned to develop models predicting daily high, daily low, weekly, and monthly prices for enhanced financial insights\n",
      "EcoSort - Developed an image classification system to sort waste into categories for improved recycling. Built and trained a deep learning model using TensorFlow for accurate waste classification. Deployed a full-stack web application with a Flask backend and a React-based frontend for interactive sorting demonstrations\n",
      "BlockAcademy - Built a blockchain-based classroom management system using Solidity. Utilized Truffle and Ganache for local Ethereum development, testing, and deployment of blockchain features. Developed a dApp, with Node.js backend, to interact with smart contracts for real-time data updates\n",
      "Blockchain Voting System - Developed a blockchain-based voting system. Created core functionalities in Go for voter registration, vote casting, and election result calculation, ensuring robust performance and security. Enabled easy usage by allowing users to run the main program to simulate the voting process and display outcomes\n"
     ]
    }
   ],
   "source": [
    "# 🔹 Fetch the most relevant resume details\n",
    "resume_data = collection.get(include=[\"documents\", \"metadatas\"])\n",
    "\n",
    "if resume_data[\"documents\"]:\n",
    "    Name = resume_data[\"metadatas\"][0].get(\"name\", \"Unknown Candidate\")  # ✅ Fetch Name\n",
    "    skills = resume_data[\"documents\"][0]  # ✅ Fetch Skills as stored\n",
    "    projects = resume_data[\"metadatas\"][0].get(\"links\", \"No Projects Found\")  # ✅ Fetch Projects\n",
    "else:\n",
    "    Name = \"Unknown Candidate\"\n",
    "    skills = \"No Skills Found\"\n",
    "    projects = \"No Projects Found\"\n",
    "\n",
    "print(f\"✅ Retrieved from ChromaDB: Name: {Name}, Skills: {skills}, Projects: {projects}\")  # Debugging output\n"
   ]
  },
  {
   "cell_type": "code",
   "execution_count": 43,
   "metadata": {},
   "outputs": [],
   "source": [
    "# job = json_response\n",
    "\n",
    "# # Convert skills list to a proper query string\n",
    "# skills_query = \", \".join(job.get('skills', []))  \n",
    "\n",
    "# # Query ChromaDB for related projects\n",
    "# links = collection.query(query_texts=[skills_query], n_results=2).get('metadatas', [])\n",
    "\n",
    "# print(\"🔗 Retrieved Project Links:\", links)  # ✅ Debugging output\n"
   ]
  },
  {
   "cell_type": "code",
   "execution_count": 44,
   "metadata": {},
   "outputs": [
    {
     "name": "stderr",
     "output_type": "stream",
     "text": [
      "Number of requested results 2 is greater than number of elements in index 1, updating n_results = 1\n"
     ]
    },
    {
     "name": "stdout",
     "output_type": "stream",
     "text": [
      "🔗 Retrieved Project Links: [[{'links': 'Text Restore - Developed a React-based website. Doing research and developing a super-resolution pipeline to enhance degraded Urdu text images. Created a custom dataset by collecting Urdu manuscripts and applying artificial degradation techniques. Training, Fine-tuning and comparison of state-of-the-art models (SRCNN, ESRGAN, Real-ESRGAN) with PSNR and SSIM metrics for evaluation\\nBitcoin Price Predection - Preprocessed Bitcoin data using Pandas, focusing on handling missing values, scaling, and feature engineering for time-series analysis. Planned to develop models predicting daily high, daily low, weekly, and monthly prices for enhanced financial insights\\nEcoSort - Developed an image classification system to sort waste into categories for improved recycling. Built and trained a deep learning model using TensorFlow for accurate waste classification. Deployed a full-stack web application with a Flask backend and a React-based frontend for interactive sorting demonstrations\\nBlockAcademy - Built a blockchain-based classroom management system using Solidity. Utilized Truffle and Ganache for local Ethereum development, testing, and deployment of blockchain features. Developed a dApp, with Node.js backend, to interact with smart contracts for real-time data updates\\nBlockchain Voting System - Developed a blockchain-based voting system. Created core functionalities in Go for voter registration, vote casting, and election result calculation, ensuring robust performance and security. Enabled easy usage by allowing users to run the main program to simulate the voting process and display outcomes'}]]\n"
     ]
    }
   ],
   "source": [
    "from sentence_transformers import SentenceTransformer\n",
    "job = json_response\n",
    "# 🔹 Load a pre-trained model for embeddings\n",
    "embedding_model = SentenceTransformer(\"all-MiniLM-L6-v2\")\n",
    "\n",
    "def get_embedding(text):\n",
    "    \"\"\"Convert text into a numerical embedding vector.\"\"\"\n",
    "    return embedding_model.encode(text).tolist()\n",
    "\n",
    "# 🔹 Convert job skills to an embedding\n",
    "job_embedding = get_embedding(\", \".join(job.get('skills', [])))\n",
    "\n",
    "# 🔹 Query ChromaDB with an embedding search\n",
    "results = collection.query(query_embeddings=[job_embedding], n_results=2)\n",
    "links = results.get('metadatas', [])\n",
    "\n",
    "print(\"🔗 Retrieved Project Links:\", links)\n"
   ]
  },
  {
   "cell_type": "code",
   "execution_count": 45,
   "metadata": {},
   "outputs": [],
   "source": [
    "from langchain.prompts import PromptTemplate"
   ]
  },
  {
   "cell_type": "code",
   "execution_count": 47,
   "metadata": {},
   "outputs": [
    {
     "name": "stdout",
     "output_type": "stream",
     "text": [
      "Subject: Application for Senior Data Scientist Role\n",
      "\n",
      "Dear Hiring Manager,\n",
      "\n",
      "I am excited to apply for the Senior Data Scientist position at your esteemed organization. With over 3 years of experience in developing and deploying machine learning models, I am confident that my skills and expertise align with your requirements.\n",
      "\n",
      "As a seasoned data scientist, I possess a strong foundation in Python, with expertise in libraries such as Pandas, NumPy, and Matplotlib. My experience with deep learning frameworks, including TensorFlow, has enabled me to develop and train complex models for various applications. I am also proficient in natural language processing (NLP) and have worked on projects involving text analysis and processing.\n",
      "\n",
      "I would like to highlight a few projects that demonstrate my relevance for this role. In my Text Restore project, I developed a super-resolution pipeline to enhance degraded Urdu text images using state-of-the-art models such as SRCNN, ESRGAN, and Real-ESRGAN. This project showcases my ability to apply machine learning capabilities to drive digital landscape modules and enhance data-derived insights. Additionally, my Bitcoin Price Prediction project involved preprocessing Bitcoin data using Pandas and developing models for time-series analysis, which demonstrates my ability to work with large datasets and develop predictive models.\n",
      "\n",
      "My experience with EcoSort, an image classification system for waste sorting, has also given me a unique understanding of how to develop and deploy deep learning models for real-world applications. I believe that my skills and experience make me an ideal candidate for this role, and I am excited about the opportunity to drive digital landscape modules and enhance data-derived insights across various retail divisions.\n",
      "\n",
      "I would welcome the opportunity to discuss my application and how my skills and experience align with your requirements. Please feel free to contact me at your convenience.\n",
      "\n",
      "Thank you for considering my application.\n",
      "\n",
      "Best regards,\n",
      "Unknown Candidate\n"
     ]
    }
   ],
   "source": [
    "prompt_email = PromptTemplate.from_template(\n",
    "    \"\"\"\n",
    "    ### JOB DESCRIPTION:\n",
    "    {job_description}\n",
    "    \n",
    "    ### INSTRUCTION:\n",
    "    You are {candidate_name}, a highly skilled professional with expertise in {skills}. \n",
    "    You are applying for the above job. Your job is to write a **cold email** to the recruiter, highlighting how your experience \n",
    "    and skills align with their needs.\n",
    "    \n",
    "    Also, mention the most relevant projects from the following list to showcase your experience: {link_list}\n",
    "\n",
    "    Do not provide a preamble. Keep the email **professional, concise, and personalized**.\n",
    "    \n",
    "    ### EMAIL (NO PREAMBLE):\n",
    "    \n",
    "    \"\"\"\n",
    ")\n",
    "\n",
    "# ✅ Combine Prompt & LLM\n",
    "chain_email = prompt_email | llm  \n",
    "\n",
    "# 🔹 Ensure ALL required variables are passed\n",
    "res = chain_email.invoke({\n",
    "    \"candidate_name\": Name,  # ✅ Fetched from ChromaDB\n",
    "    \"skills\": skills,  # ✅ Fetched from ChromaDB\n",
    "    \"job_description\": str(job),\n",
    "    \"link_list\": projects  # ✅ Use retrieved projects\n",
    "})\n",
    "\n",
    "print(res.content)\n"
   ]
  },
  {
   "cell_type": "code",
   "execution_count": null,
   "metadata": {},
   "outputs": [],
   "source": []
  }
 ],
 "metadata": {
  "kernelspec": {
   "display_name": "tf_env",
   "language": "python",
   "name": "python3"
  },
  "language_info": {
   "codemirror_mode": {
    "name": "ipython",
    "version": 3
   },
   "file_extension": ".py",
   "mimetype": "text/x-python",
   "name": "python",
   "nbconvert_exporter": "python",
   "pygments_lexer": "ipython3",
   "version": "3.9.21"
  }
 },
 "nbformat": 4,
 "nbformat_minor": 2
}
